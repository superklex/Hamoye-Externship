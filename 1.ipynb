{
  "nbformat": 4,
  "nbformat_minor": 0,
  "metadata": {
    "colab": {
      "name": "1.ipynb",
      "provenance": [],
      "collapsed_sections": [],
      "authorship_tag": "ABX9TyMc+xpEOw5HSSDhI+PCFiBx",
      "include_colab_link": true
    },
    "kernelspec": {
      "name": "python3",
      "display_name": "Python 3"
    }
  },
  "cells": [
    {
      "cell_type": "markdown",
      "metadata": {
        "id": "view-in-github",
        "colab_type": "text"
      },
      "source": [
        "<a href=\"https://colab.research.google.com/github/superklex/Hamoye-externship/blob/master/1.ipynb\" target=\"_parent\"><img src=\"https://colab.research.google.com/assets/colab-badge.svg\" alt=\"Open In Colab\"/></a>"
      ]
    },
    {
      "cell_type": "code",
      "metadata": {
        "id": "AOnza4aOoFF4"
      },
      "source": [
        "import pandas as pd\r\n",
        "import numpy as np\r\n",
        "import math"
      ],
      "execution_count": 11,
      "outputs": []
    },
    {
      "cell_type": "code",
      "metadata": {
        "id": "O3Qmc3BTuYi1"
      },
      "source": [
        "#loading the cellphones dataset\r\n",
        "cell_url = \"https://raw.githubusercontent.com/superklex/Hamoye-externship/master/cellphones.csv\"\r\n",
        "cell = pd.read_csv(cell_url)"
      ],
      "execution_count": 12,
      "outputs": []
    },
    {
      "cell_type": "code",
      "metadata": {
        "id": "QdTuxTiRuc1l"
      },
      "source": [
        "#loading the population dataset\r\n",
        "pop_url =\"https://raw.githubusercontent.com/superklex/Hamoye-externship/master/population.csv\"\r\n",
        "population = pd.read_csv(pop_url)"
      ],
      "execution_count": 13,
      "outputs": []
    },
    {
      "cell_type": "code",
      "metadata": {
        "id": "ljf5wOcquf3v"
      },
      "source": [
        "#new dataframe from the merging cellphone and population dataframe\r\n",
        "cell_pop = cell.merge(population, how =\"inner\", on =[\"Country\", \"year\"])\r\n"
      ],
      "execution_count": 15,
      "outputs": []
    },
    {
      "cell_type": "code",
      "metadata": {
        "colab": {
          "base_uri": "https://localhost:8080/"
        },
        "id": "uGjeTrB8uigm",
        "outputId": "62cca1a7-5a67-49f1-db86-30f80acffced"
      },
      "source": [
        "#verifying the shape of the merged datataframe\r\n",
        "cell_pop.shape"
      ],
      "execution_count": 16,
      "outputs": [
        {
          "output_type": "execute_result",
          "data": {
            "text/plain": [
              "(11640, 4)"
            ]
          },
          "metadata": {
            "tags": []
          },
          "execution_count": 16
        }
      ]
    },
    {
      "cell_type": "code",
      "metadata": {
        "id": "13OHYJVlutB6"
      },
      "source": [
        "#loading the geo_country dataset\r\n",
        "geo_url =\"https://raw.githubusercontent.com/superklex/Hamoye-externship/master/geo_country.csv\"\r\n",
        "geo_country = pd.read_csv(geo_url)"
      ],
      "execution_count": 17,
      "outputs": []
    },
    {
      "cell_type": "code",
      "metadata": {
        "colab": {
          "base_uri": "https://localhost:8080/"
        },
        "id": "EJodBfovuwpO",
        "outputId": "7f07b60f-a679-4bc1-8b12-ad281d4195d0"
      },
      "source": [
        "#renaming columns and verifying\r\n",
        "geo_country.rename(columns={\"country\": \"geo\", \"name\": \"Country\"}, inplace = True)\r\n",
        "geo_country.columns"
      ],
      "execution_count": 18,
      "outputs": [
        {
          "output_type": "execute_result",
          "data": {
            "text/plain": [
              "Index(['geo', 'g77_and_oecd_countries', 'income_3groups', 'income_groups',\n",
              "       'is--country', 'iso3166_1_alpha2', 'iso3166_1_alpha3',\n",
              "       'iso3166_1_numeric', 'iso3166_2', 'landlocked', 'latitude', 'longitude',\n",
              "       'main_religion_2008', 'Country', 'un_sdg_ldc', 'un_sdg_region',\n",
              "       'un_state', 'unicef_region', 'unicode_region_subtag', 'world_4region',\n",
              "       'world_6region'],\n",
              "      dtype='object')"
            ]
          },
          "metadata": {
            "tags": []
          },
          "execution_count": 18
        }
      ]
    },
    {
      "cell_type": "code",
      "metadata": {
        "colab": {
          "base_uri": "https://localhost:8080/"
        },
        "id": "2GMpOzEpuy6s",
        "outputId": "85462270-33b4-4d3c-e12b-5fe37c427dad"
      },
      "source": [
        "#adding columns to the \"new\" dataframe\r\n",
        "new = pd.merge(cell_pop, geo_country[[\"geo\", \"Country\"]], how=\"left\")\r\n",
        "new.head"
      ],
      "execution_count": 19,
      "outputs": [
        {
          "output_type": "execute_result",
          "data": {
            "text/plain": [
              "<bound method NDFrame.head of            Country  year  cell_phones_total  population  geo\n",
              "0      Afghanistan  1960                0.0     9000000  afg\n",
              "1      Afghanistan  1961                0.0     9170000  afg\n",
              "2      Afghanistan  1962                0.0     9350000  afg\n",
              "3      Afghanistan  1963                0.0     9540000  afg\n",
              "4      Afghanistan  1964                0.0     9740000  afg\n",
              "...            ...   ...                ...         ...  ...\n",
              "11635     Zimbabwe  2015         12800000.0    13800000  zwe\n",
              "11636     Zimbabwe  2016         12900000.0    14000000  zwe\n",
              "11637     Zimbabwe  2017         14100000.0    14200000  zwe\n",
              "11638     Zimbabwe  2018         12900000.0    14400000  zwe\n",
              "11639     Zimbabwe  2019         13200000.0    14600000  zwe\n",
              "\n",
              "[11640 rows x 5 columns]>"
            ]
          },
          "metadata": {
            "tags": []
          },
          "execution_count": 19
        }
      ]
    },
    {
      "cell_type": "code",
      "metadata": {
        "colab": {
          "base_uri": "https://localhost:8080/"
        },
        "id": "aWl7npp_u1gT",
        "outputId": "9f0944d4-f0de-406d-bb4b-4c0002a163ce"
      },
      "source": [
        "#adding a new column that shows the average cellphone per person\r\n",
        "new[\"cell_phone_per-person\"] = new[\"cell_phones_total\"]/new[\"population\"]\r\n",
        "new.head"
      ],
      "execution_count": 20,
      "outputs": [
        {
          "output_type": "execute_result",
          "data": {
            "text/plain": [
              "<bound method NDFrame.head of            Country  year  ...  geo  cell_phone_per-person\n",
              "0      Afghanistan  1960  ...  afg               0.000000\n",
              "1      Afghanistan  1961  ...  afg               0.000000\n",
              "2      Afghanistan  1962  ...  afg               0.000000\n",
              "3      Afghanistan  1963  ...  afg               0.000000\n",
              "4      Afghanistan  1964  ...  afg               0.000000\n",
              "...            ...   ...  ...  ...                    ...\n",
              "11635     Zimbabwe  2015  ...  zwe               0.927536\n",
              "11636     Zimbabwe  2016  ...  zwe               0.921429\n",
              "11637     Zimbabwe  2017  ...  zwe               0.992958\n",
              "11638     Zimbabwe  2018  ...  zwe               0.895833\n",
              "11639     Zimbabwe  2019  ...  zwe               0.904110\n",
              "\n",
              "[11640 rows x 6 columns]>"
            ]
          },
          "metadata": {
            "tags": []
          },
          "execution_count": 20
        }
      ]
    },
    {
      "cell_type": "code",
      "metadata": {
        "colab": {
          "base_uri": "https://localhost:8080/",
          "height": 77
        },
        "id": "HQhb3R9iu7wY",
        "outputId": "408b9ee5-5186-44f3-8fd0-b7032fb638d4"
      },
      "source": [
        "#verifying the number of cellphone per person in United States for 2017\r\n",
        "new.loc[(new['Country'] == \"United States\") & (new[\"year\"] == 2017 )]"
      ],
      "execution_count": 21,
      "outputs": [
        {
          "output_type": "execute_result",
          "data": {
            "text/html": [
              "<div>\n",
              "<style scoped>\n",
              "    .dataframe tbody tr th:only-of-type {\n",
              "        vertical-align: middle;\n",
              "    }\n",
              "\n",
              "    .dataframe tbody tr th {\n",
              "        vertical-align: top;\n",
              "    }\n",
              "\n",
              "    .dataframe thead th {\n",
              "        text-align: right;\n",
              "    }\n",
              "</style>\n",
              "<table border=\"1\" class=\"dataframe\">\n",
              "  <thead>\n",
              "    <tr style=\"text-align: right;\">\n",
              "      <th></th>\n",
              "      <th>Country</th>\n",
              "      <th>year</th>\n",
              "      <th>cell_phones_total</th>\n",
              "      <th>population</th>\n",
              "      <th>geo</th>\n",
              "      <th>cell_phone_per-person</th>\n",
              "    </tr>\n",
              "  </thead>\n",
              "  <tbody>\n",
              "    <tr>\n",
              "      <th>11157</th>\n",
              "      <td>United States</td>\n",
              "      <td>2017</td>\n",
              "      <td>400000000.0</td>\n",
              "      <td>325000000</td>\n",
              "      <td>usa</td>\n",
              "      <td>1.230769</td>\n",
              "    </tr>\n",
              "  </tbody>\n",
              "</table>\n",
              "</div>"
            ],
            "text/plain": [
              "             Country  year  ...  geo  cell_phone_per-person\n",
              "11157  United States  2017  ...  usa               1.230769\n",
              "\n",
              "[1 rows x 6 columns]"
            ]
          },
          "metadata": {
            "tags": []
          },
          "execution_count": 21
        }
      ]
    },
    {
      "cell_type": "code",
      "metadata": {
        "id": "hkKOQeQMvANJ"
      },
      "source": [
        "#making the geocodes uppercase\r\n",
        "new[\"geo\"] = new[\"geo\"].str.upper()"
      ],
      "execution_count": 22,
      "outputs": []
    },
    {
      "cell_type": "code",
      "metadata": {
        "colab": {
          "base_uri": "https://localhost:8080/",
          "height": 284
        },
        "id": "I-67hLNkvDCL",
        "outputId": "461b3531-f979-4896-b3f2-93b7a3297413"
      },
      "source": [
        "#describing the dataframe\r\n",
        "new.describe()"
      ],
      "execution_count": 23,
      "outputs": [
        {
          "output_type": "execute_result",
          "data": {
            "text/html": [
              "<div>\n",
              "<style scoped>\n",
              "    .dataframe tbody tr th:only-of-type {\n",
              "        vertical-align: middle;\n",
              "    }\n",
              "\n",
              "    .dataframe tbody tr th {\n",
              "        vertical-align: top;\n",
              "    }\n",
              "\n",
              "    .dataframe thead th {\n",
              "        text-align: right;\n",
              "    }\n",
              "</style>\n",
              "<table border=\"1\" class=\"dataframe\">\n",
              "  <thead>\n",
              "    <tr style=\"text-align: right;\">\n",
              "      <th></th>\n",
              "      <th>year</th>\n",
              "      <th>cell_phones_total</th>\n",
              "      <th>population</th>\n",
              "      <th>cell_phone_per-person</th>\n",
              "    </tr>\n",
              "  </thead>\n",
              "  <tbody>\n",
              "    <tr>\n",
              "      <th>count</th>\n",
              "      <td>11640.000000</td>\n",
              "      <td>1.164000e+04</td>\n",
              "      <td>1.164000e+04</td>\n",
              "      <td>11640.000000</td>\n",
              "    </tr>\n",
              "    <tr>\n",
              "      <th>mean</th>\n",
              "      <td>1989.500000</td>\n",
              "      <td>7.875722e+06</td>\n",
              "      <td>2.710307e+07</td>\n",
              "      <td>0.235536</td>\n",
              "    </tr>\n",
              "    <tr>\n",
              "      <th>std</th>\n",
              "      <td>17.318846</td>\n",
              "      <td>5.572496e+07</td>\n",
              "      <td>1.086187e+08</td>\n",
              "      <td>0.433303</td>\n",
              "    </tr>\n",
              "    <tr>\n",
              "      <th>min</th>\n",
              "      <td>1960.000000</td>\n",
              "      <td>0.000000e+00</td>\n",
              "      <td>4.380000e+03</td>\n",
              "      <td>0.000000</td>\n",
              "    </tr>\n",
              "    <tr>\n",
              "      <th>25%</th>\n",
              "      <td>1974.750000</td>\n",
              "      <td>0.000000e+00</td>\n",
              "      <td>1.117500e+06</td>\n",
              "      <td>0.000000</td>\n",
              "    </tr>\n",
              "    <tr>\n",
              "      <th>50%</th>\n",
              "      <td>1989.500000</td>\n",
              "      <td>0.000000e+00</td>\n",
              "      <td>5.100000e+06</td>\n",
              "      <td>0.000000</td>\n",
              "    </tr>\n",
              "    <tr>\n",
              "      <th>75%</th>\n",
              "      <td>2004.250000</td>\n",
              "      <td>5.615000e+05</td>\n",
              "      <td>1.590000e+07</td>\n",
              "      <td>0.233667</td>\n",
              "    </tr>\n",
              "    <tr>\n",
              "      <th>max</th>\n",
              "      <td>2019.000000</td>\n",
              "      <td>1.730000e+09</td>\n",
              "      <td>1.430000e+09</td>\n",
              "      <td>2.126068</td>\n",
              "    </tr>\n",
              "  </tbody>\n",
              "</table>\n",
              "</div>"
            ],
            "text/plain": [
              "               year  cell_phones_total    population  cell_phone_per-person\n",
              "count  11640.000000       1.164000e+04  1.164000e+04           11640.000000\n",
              "mean    1989.500000       7.875722e+06  2.710307e+07               0.235536\n",
              "std       17.318846       5.572496e+07  1.086187e+08               0.433303\n",
              "min     1960.000000       0.000000e+00  4.380000e+03               0.000000\n",
              "25%     1974.750000       0.000000e+00  1.117500e+06               0.000000\n",
              "50%     1989.500000       0.000000e+00  5.100000e+06               0.000000\n",
              "75%     2004.250000       5.615000e+05  1.590000e+07               0.233667\n",
              "max     2019.000000       1.730000e+09  1.430000e+09               2.126068"
            ]
          },
          "metadata": {
            "tags": []
          },
          "execution_count": 23
        }
      ]
    },
    {
      "cell_type": "code",
      "metadata": {
        "colab": {
          "base_uri": "https://localhost:8080/"
        },
        "id": "Y3CWEY4CvGDG",
        "outputId": "21a3dc01-a221-4cd9-af00-dc8d17e5ea49"
      },
      "source": [
        "#check for unique countries\r\n",
        "new[\"Country\"].nunique()"
      ],
      "execution_count": 24,
      "outputs": [
        {
          "output_type": "execute_result",
          "data": {
            "text/plain": [
              "194"
            ]
          },
          "metadata": {
            "tags": []
          },
          "execution_count": 24
        }
      ]
    },
    {
      "cell_type": "code",
      "metadata": {
        "colab": {
          "base_uri": "https://localhost:8080/",
          "height": 195
        },
        "id": "P3VmO-Q4vJQM",
        "outputId": "12b8c531-56ca-41a5-b9ac-5278fe2ec2f0"
      },
      "source": [
        "#getting top 5 countries with the most cell phones total\r\n",
        "top5= new.loc[new['year'] == 2017]\r\n",
        "highest = top5.nlargest(5, ['cell_phones_total']).drop([\"year\", \"population\", \"geo\", \"cell_phone_per-person\"], axis = 1) \r\n",
        "highest['cell_phones_total'] = highest['cell_phones_total'].astype('int64') \r\n",
        "highest"
      ],
      "execution_count": 25,
      "outputs": [
        {
          "output_type": "execute_result",
          "data": {
            "text/html": [
              "<div>\n",
              "<style scoped>\n",
              "    .dataframe tbody tr th:only-of-type {\n",
              "        vertical-align: middle;\n",
              "    }\n",
              "\n",
              "    .dataframe tbody tr th {\n",
              "        vertical-align: top;\n",
              "    }\n",
              "\n",
              "    .dataframe thead th {\n",
              "        text-align: right;\n",
              "    }\n",
              "</style>\n",
              "<table border=\"1\" class=\"dataframe\">\n",
              "  <thead>\n",
              "    <tr style=\"text-align: right;\">\n",
              "      <th></th>\n",
              "      <th>Country</th>\n",
              "      <th>cell_phones_total</th>\n",
              "    </tr>\n",
              "  </thead>\n",
              "  <tbody>\n",
              "    <tr>\n",
              "      <th>2157</th>\n",
              "      <td>China</td>\n",
              "      <td>1470000000</td>\n",
              "    </tr>\n",
              "    <tr>\n",
              "      <th>4617</th>\n",
              "      <td>India</td>\n",
              "      <td>1170000000</td>\n",
              "    </tr>\n",
              "    <tr>\n",
              "      <th>4677</th>\n",
              "      <td>Indonesia</td>\n",
              "      <td>435000000</td>\n",
              "    </tr>\n",
              "    <tr>\n",
              "      <th>11157</th>\n",
              "      <td>United States</td>\n",
              "      <td>400000000</td>\n",
              "    </tr>\n",
              "    <tr>\n",
              "      <th>8577</th>\n",
              "      <td>Russia</td>\n",
              "      <td>227000000</td>\n",
              "    </tr>\n",
              "  </tbody>\n",
              "</table>\n",
              "</div>"
            ],
            "text/plain": [
              "             Country  cell_phones_total\n",
              "2157           China         1470000000\n",
              "4617           India         1170000000\n",
              "4677       Indonesia          435000000\n",
              "11157  United States          400000000\n",
              "8577          Russia          227000000"
            ]
          },
          "metadata": {
            "tags": []
          },
          "execution_count": 25
        }
      ]
    }
  ]
}