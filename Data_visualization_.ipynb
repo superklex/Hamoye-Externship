{
  "nbformat": 4,
  "nbformat_minor": 0,
  "metadata": {
    "colab": {
      "name": "Data visualization .ipynb",
      "provenance": [],
      "collapsed_sections": [],
      "authorship_tag": "ABX9TyPnayhkAHEVEQgTEFteNpxz",
      "include_colab_link": true
    },
    "kernelspec": {
      "name": "python3",
      "display_name": "Python 3"
    }
  },
  "cells": [
    {
      "cell_type": "markdown",
      "metadata": {
        "id": "view-in-github",
        "colab_type": "text"
      },
      "source": [
        "<a href=\"https://colab.research.google.com/github/superklex/Hamoye-externship/blob/master/Data_visualization_.ipynb\" target=\"_parent\"><img src=\"https://colab.research.google.com/assets/colab-badge.svg\" alt=\"Open In Colab\"/></a>"
      ]
    },
    {
      "cell_type": "code",
      "metadata": {
        "colab": {
          "base_uri": "https://localhost:8080/",
          "height": 52
        },
        "id": "EuHx3zoPc6qP",
        "outputId": "527caffe-77f4-4177-edd8-d8caa745b78b"
      },
      "source": [
        "'''\r\n",
        "Data visualization is simply trying to understand data by placing it in a visual \r\n",
        "context, so hidden patterns, trends and correlations can be detected\r\n",
        "'''"
      ],
      "execution_count": 1,
      "outputs": [
        {
          "output_type": "execute_result",
          "data": {
            "application/vnd.google.colaboratory.intrinsic+json": {
              "type": "string"
            },
            "text/plain": [
              "'\\nData visualization is simply trying to understand data by placing it in a visual \\ncontext, so hidden patterns, trends and correlations can be detected\\n'"
            ]
          },
          "metadata": {
            "tags": []
          },
          "execution_count": 1
        }
      ]
    },
    {
      "cell_type": "code",
      "metadata": {
        "id": "C5SQ2tWaduWQ"
      },
      "source": [
        "import pandas as pd\r\n",
        "pd.set_option(\"display.max_rows\", 1000)\r\n",
        "pd.set_option(\"display.max_columns\", 1000)\r\n",
        "pd.set_option(\"display.width\", 1000)\r\n",
        "temporal_url = \"https://raw.githubusercontent.com/superklex/my_datasets/master/Copy%20of%20temporal.csv\"\r\n",
        "temporal = pd.read_csv(temporal_url)"
      ],
      "execution_count": 12,
      "outputs": []
    },
    {
      "cell_type": "code",
      "metadata": {
        "colab": {
          "base_uri": "https://localhost:8080/",
          "height": 204
        },
        "id": "Bp-PPil8fzGW",
        "outputId": "c6f75bed-d20e-4deb-e200-a76c2330e3da"
      },
      "source": [
        "temporal.head()"
      ],
      "execution_count": 9,
      "outputs": [
        {
          "output_type": "execute_result",
          "data": {
            "text/html": [
              "<div>\n",
              "<style scoped>\n",
              "    .dataframe tbody tr th:only-of-type {\n",
              "        vertical-align: middle;\n",
              "    }\n",
              "\n",
              "    .dataframe tbody tr th {\n",
              "        vertical-align: top;\n",
              "    }\n",
              "\n",
              "    .dataframe thead th {\n",
              "        text-align: right;\n",
              "    }\n",
              "</style>\n",
              "<table border=\"1\" class=\"dataframe\">\n",
              "  <thead>\n",
              "    <tr style=\"text-align: right;\">\n",
              "      <th></th>\n",
              "      <th>Mes</th>\n",
              "      <th>data science</th>\n",
              "      <th>machine learning</th>\n",
              "      <th>deep learning</th>\n",
              "      <th>categorical</th>\n",
              "    </tr>\n",
              "  </thead>\n",
              "  <tbody>\n",
              "    <tr>\n",
              "      <th>0</th>\n",
              "      <td>2004-01-01</td>\n",
              "      <td>12</td>\n",
              "      <td>18</td>\n",
              "      <td>4</td>\n",
              "      <td>1</td>\n",
              "    </tr>\n",
              "    <tr>\n",
              "      <th>1</th>\n",
              "      <td>2004-02-01</td>\n",
              "      <td>12</td>\n",
              "      <td>21</td>\n",
              "      <td>2</td>\n",
              "      <td>1</td>\n",
              "    </tr>\n",
              "    <tr>\n",
              "      <th>2</th>\n",
              "      <td>2004-03-01</td>\n",
              "      <td>9</td>\n",
              "      <td>21</td>\n",
              "      <td>2</td>\n",
              "      <td>1</td>\n",
              "    </tr>\n",
              "    <tr>\n",
              "      <th>3</th>\n",
              "      <td>2004-04-01</td>\n",
              "      <td>10</td>\n",
              "      <td>16</td>\n",
              "      <td>4</td>\n",
              "      <td>1</td>\n",
              "    </tr>\n",
              "    <tr>\n",
              "      <th>4</th>\n",
              "      <td>2004-05-01</td>\n",
              "      <td>7</td>\n",
              "      <td>14</td>\n",
              "      <td>3</td>\n",
              "      <td>1</td>\n",
              "    </tr>\n",
              "  </tbody>\n",
              "</table>\n",
              "</div>"
            ],
            "text/plain": [
              "          Mes  data science  machine learning  deep learning  categorical\n",
              "0  2004-01-01            12                18              4            1\n",
              "1  2004-02-01            12                21              2            1\n",
              "2  2004-03-01             9                21              2            1\n",
              "3  2004-04-01            10                16              4            1\n",
              "4  2004-05-01             7                14              3            1"
            ]
          },
          "metadata": {
            "tags": []
          },
          "execution_count": 9
        }
      ]
    },
    {
      "cell_type": "code",
      "metadata": {
        "colab": {
          "base_uri": "https://localhost:8080/",
          "height": 297
        },
        "id": "vU77YWZwkLHE",
        "outputId": "8fcb3af4-561b-48b3-f8b7-e62a56f7fc86"
      },
      "source": [
        "temporal.describe()"
      ],
      "execution_count": 10,
      "outputs": [
        {
          "output_type": "execute_result",
          "data": {
            "text/html": [
              "<div>\n",
              "<style scoped>\n",
              "    .dataframe tbody tr th:only-of-type {\n",
              "        vertical-align: middle;\n",
              "    }\n",
              "\n",
              "    .dataframe tbody tr th {\n",
              "        vertical-align: top;\n",
              "    }\n",
              "\n",
              "    .dataframe thead th {\n",
              "        text-align: right;\n",
              "    }\n",
              "</style>\n",
              "<table border=\"1\" class=\"dataframe\">\n",
              "  <thead>\n",
              "    <tr style=\"text-align: right;\">\n",
              "      <th></th>\n",
              "      <th>data science</th>\n",
              "      <th>machine learning</th>\n",
              "      <th>deep learning</th>\n",
              "      <th>categorical</th>\n",
              "    </tr>\n",
              "  </thead>\n",
              "  <tbody>\n",
              "    <tr>\n",
              "      <th>count</th>\n",
              "      <td>194.000000</td>\n",
              "      <td>194.000000</td>\n",
              "      <td>194.000000</td>\n",
              "      <td>194.000000</td>\n",
              "    </tr>\n",
              "    <tr>\n",
              "      <th>mean</th>\n",
              "      <td>20.953608</td>\n",
              "      <td>27.396907</td>\n",
              "      <td>24.231959</td>\n",
              "      <td>0.257732</td>\n",
              "    </tr>\n",
              "    <tr>\n",
              "      <th>std</th>\n",
              "      <td>23.951006</td>\n",
              "      <td>28.091490</td>\n",
              "      <td>34.476887</td>\n",
              "      <td>0.438517</td>\n",
              "    </tr>\n",
              "    <tr>\n",
              "      <th>min</th>\n",
              "      <td>4.000000</td>\n",
              "      <td>7.000000</td>\n",
              "      <td>1.000000</td>\n",
              "      <td>0.000000</td>\n",
              "    </tr>\n",
              "    <tr>\n",
              "      <th>25%</th>\n",
              "      <td>6.000000</td>\n",
              "      <td>9.000000</td>\n",
              "      <td>2.000000</td>\n",
              "      <td>0.000000</td>\n",
              "    </tr>\n",
              "    <tr>\n",
              "      <th>50%</th>\n",
              "      <td>8.000000</td>\n",
              "      <td>13.000000</td>\n",
              "      <td>3.000000</td>\n",
              "      <td>0.000000</td>\n",
              "    </tr>\n",
              "    <tr>\n",
              "      <th>75%</th>\n",
              "      <td>26.750000</td>\n",
              "      <td>31.500000</td>\n",
              "      <td>34.000000</td>\n",
              "      <td>1.000000</td>\n",
              "    </tr>\n",
              "    <tr>\n",
              "      <th>max</th>\n",
              "      <td>100.000000</td>\n",
              "      <td>100.000000</td>\n",
              "      <td>100.000000</td>\n",
              "      <td>1.000000</td>\n",
              "    </tr>\n",
              "  </tbody>\n",
              "</table>\n",
              "</div>"
            ],
            "text/plain": [
              "       data science  machine learning  deep learning  categorical\n",
              "count    194.000000        194.000000     194.000000   194.000000\n",
              "mean      20.953608         27.396907      24.231959     0.257732\n",
              "std       23.951006         28.091490      34.476887     0.438517\n",
              "min        4.000000          7.000000       1.000000     0.000000\n",
              "25%        6.000000          9.000000       2.000000     0.000000\n",
              "50%        8.000000         13.000000       3.000000     0.000000\n",
              "75%       26.750000         31.500000      34.000000     1.000000\n",
              "max      100.000000        100.000000     100.000000     1.000000"
            ]
          },
          "metadata": {
            "tags": []
          },
          "execution_count": 10
        }
      ]
    },
    {
      "cell_type": "code",
      "metadata": {
        "colab": {
          "base_uri": "https://localhost:8080/"
        },
        "id": "c9z1JJNZoluD",
        "outputId": "bb40646f-58c9-4257-fbb8-78ddf29ba89c"
      },
      "source": [
        "#info to show the type of data in each column\r\n",
        "temporal.info()"
      ],
      "execution_count": 11,
      "outputs": [
        {
          "output_type": "stream",
          "text": [
            "<class 'pandas.core.frame.DataFrame'>\n",
            "RangeIndex: 194 entries, 0 to 193\n",
            "Data columns (total 5 columns):\n",
            " #   Column            Non-Null Count  Dtype \n",
            "---  ------            --------------  ----- \n",
            " 0   Mes               194 non-null    object\n",
            " 1   data science      194 non-null    int64 \n",
            " 2   machine learning  194 non-null    int64 \n",
            " 3   deep learning     194 non-null    int64 \n",
            " 4   categorical       194 non-null    int64 \n",
            "dtypes: int64(4), object(1)\n",
            "memory usage: 7.7+ KB\n"
          ],
          "name": "stdout"
        }
      ]
    },
    {
      "cell_type": "code",
      "metadata": {
        "colab": {
          "base_uri": "https://localhost:8080/",
          "height": 145
        },
        "id": "YzJjtpEMqQ6M",
        "outputId": "425b9f43-1868-4735-99a7-539bf45648b3"
      },
      "source": [
        "#highlight the maximum or minimum in every column wrt to the date\r\n",
        "temporal.head().style.format(temporal[\"Mes\"]).highlight_max(color= \"green\")"
      ],
      "execution_count": 17,
      "outputs": [
        {
          "output_type": "execute_result",
          "data": {
            "text/html": [
              "<style  type=\"text/css\" >\n",
              "#T_a5ff39a4_6ca5_11eb_a66c_0242ac1c0002row0_col1,#T_a5ff39a4_6ca5_11eb_a66c_0242ac1c0002row0_col3,#T_a5ff39a4_6ca5_11eb_a66c_0242ac1c0002row0_col4,#T_a5ff39a4_6ca5_11eb_a66c_0242ac1c0002row1_col1,#T_a5ff39a4_6ca5_11eb_a66c_0242ac1c0002row1_col2,#T_a5ff39a4_6ca5_11eb_a66c_0242ac1c0002row1_col4,#T_a5ff39a4_6ca5_11eb_a66c_0242ac1c0002row2_col2,#T_a5ff39a4_6ca5_11eb_a66c_0242ac1c0002row2_col4,#T_a5ff39a4_6ca5_11eb_a66c_0242ac1c0002row3_col3,#T_a5ff39a4_6ca5_11eb_a66c_0242ac1c0002row3_col4,#T_a5ff39a4_6ca5_11eb_a66c_0242ac1c0002row4_col4{\n",
              "            background-color:  green;\n",
              "        }</style><table id=\"T_a5ff39a4_6ca5_11eb_a66c_0242ac1c0002\" ><thead>    <tr>        <th class=\"blank level0\" ></th>        <th class=\"col_heading level0 col0\" >Mes</th>        <th class=\"col_heading level0 col1\" >data science</th>        <th class=\"col_heading level0 col2\" >machine learning</th>        <th class=\"col_heading level0 col3\" >deep learning</th>        <th class=\"col_heading level0 col4\" >categorical</th>    </tr></thead><tbody>\n",
              "                <tr>\n",
              "                        <th id=\"T_a5ff39a4_6ca5_11eb_a66c_0242ac1c0002level0_row0\" class=\"row_heading level0 row0\" >0</th>\n",
              "                        <td id=\"T_a5ff39a4_6ca5_11eb_a66c_0242ac1c0002row0_col0\" class=\"data row0 col0\" >2004-01-01</td>\n",
              "                        <td id=\"T_a5ff39a4_6ca5_11eb_a66c_0242ac1c0002row0_col1\" class=\"data row0 col1\" >12</td>\n",
              "                        <td id=\"T_a5ff39a4_6ca5_11eb_a66c_0242ac1c0002row0_col2\" class=\"data row0 col2\" >18</td>\n",
              "                        <td id=\"T_a5ff39a4_6ca5_11eb_a66c_0242ac1c0002row0_col3\" class=\"data row0 col3\" >4</td>\n",
              "                        <td id=\"T_a5ff39a4_6ca5_11eb_a66c_0242ac1c0002row0_col4\" class=\"data row0 col4\" >1</td>\n",
              "            </tr>\n",
              "            <tr>\n",
              "                        <th id=\"T_a5ff39a4_6ca5_11eb_a66c_0242ac1c0002level0_row1\" class=\"row_heading level0 row1\" >1</th>\n",
              "                        <td id=\"T_a5ff39a4_6ca5_11eb_a66c_0242ac1c0002row1_col0\" class=\"data row1 col0\" >2004-02-01</td>\n",
              "                        <td id=\"T_a5ff39a4_6ca5_11eb_a66c_0242ac1c0002row1_col1\" class=\"data row1 col1\" >12</td>\n",
              "                        <td id=\"T_a5ff39a4_6ca5_11eb_a66c_0242ac1c0002row1_col2\" class=\"data row1 col2\" >21</td>\n",
              "                        <td id=\"T_a5ff39a4_6ca5_11eb_a66c_0242ac1c0002row1_col3\" class=\"data row1 col3\" >2</td>\n",
              "                        <td id=\"T_a5ff39a4_6ca5_11eb_a66c_0242ac1c0002row1_col4\" class=\"data row1 col4\" >1</td>\n",
              "            </tr>\n",
              "            <tr>\n",
              "                        <th id=\"T_a5ff39a4_6ca5_11eb_a66c_0242ac1c0002level0_row2\" class=\"row_heading level0 row2\" >2</th>\n",
              "                        <td id=\"T_a5ff39a4_6ca5_11eb_a66c_0242ac1c0002row2_col0\" class=\"data row2 col0\" >2004-03-01</td>\n",
              "                        <td id=\"T_a5ff39a4_6ca5_11eb_a66c_0242ac1c0002row2_col1\" class=\"data row2 col1\" >9</td>\n",
              "                        <td id=\"T_a5ff39a4_6ca5_11eb_a66c_0242ac1c0002row2_col2\" class=\"data row2 col2\" >21</td>\n",
              "                        <td id=\"T_a5ff39a4_6ca5_11eb_a66c_0242ac1c0002row2_col3\" class=\"data row2 col3\" >2</td>\n",
              "                        <td id=\"T_a5ff39a4_6ca5_11eb_a66c_0242ac1c0002row2_col4\" class=\"data row2 col4\" >1</td>\n",
              "            </tr>\n",
              "            <tr>\n",
              "                        <th id=\"T_a5ff39a4_6ca5_11eb_a66c_0242ac1c0002level0_row3\" class=\"row_heading level0 row3\" >3</th>\n",
              "                        <td id=\"T_a5ff39a4_6ca5_11eb_a66c_0242ac1c0002row3_col0\" class=\"data row3 col0\" >2004-04-01</td>\n",
              "                        <td id=\"T_a5ff39a4_6ca5_11eb_a66c_0242ac1c0002row3_col1\" class=\"data row3 col1\" >10</td>\n",
              "                        <td id=\"T_a5ff39a4_6ca5_11eb_a66c_0242ac1c0002row3_col2\" class=\"data row3 col2\" >16</td>\n",
              "                        <td id=\"T_a5ff39a4_6ca5_11eb_a66c_0242ac1c0002row3_col3\" class=\"data row3 col3\" >4</td>\n",
              "                        <td id=\"T_a5ff39a4_6ca5_11eb_a66c_0242ac1c0002row3_col4\" class=\"data row3 col4\" >1</td>\n",
              "            </tr>\n",
              "            <tr>\n",
              "                        <th id=\"T_a5ff39a4_6ca5_11eb_a66c_0242ac1c0002level0_row4\" class=\"row_heading level0 row4\" >4</th>\n",
              "                        <td id=\"T_a5ff39a4_6ca5_11eb_a66c_0242ac1c0002row4_col0\" class=\"data row4 col0\" >2004-05-01</td>\n",
              "                        <td id=\"T_a5ff39a4_6ca5_11eb_a66c_0242ac1c0002row4_col1\" class=\"data row4 col1\" >7</td>\n",
              "                        <td id=\"T_a5ff39a4_6ca5_11eb_a66c_0242ac1c0002row4_col2\" class=\"data row4 col2\" >14</td>\n",
              "                        <td id=\"T_a5ff39a4_6ca5_11eb_a66c_0242ac1c0002row4_col3\" class=\"data row4 col3\" >3</td>\n",
              "                        <td id=\"T_a5ff39a4_6ca5_11eb_a66c_0242ac1c0002row4_col4\" class=\"data row4 col4\" >1</td>\n",
              "            </tr>\n",
              "    </tbody></table>"
            ],
            "text/plain": [
              "<pandas.io.formats.style.Styler at 0x7fe954baa390>"
            ]
          },
          "metadata": {
            "tags": []
          },
          "execution_count": 17
        }
      ]
    },
    {
      "cell_type": "code",
      "metadata": {
        "id": "ieXBnNDKuC_v"
      },
      "source": [
        ""
      ],
      "execution_count": null,
      "outputs": []
    }
  ]
}