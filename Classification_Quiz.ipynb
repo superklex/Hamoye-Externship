{
  "nbformat": 4,
  "nbformat_minor": 0,
  "metadata": {
    "colab": {
      "name": "Classification Quiz",
      "provenance": [],
      "collapsed_sections": [],
      "authorship_tag": "ABX9TyNCClsf0itVS4GfWCPKVWqk",
      "include_colab_link": true
    },
    "kernelspec": {
      "name": "python3",
      "display_name": "Python 3"
    }
  },
  "cells": [
    {
      "cell_type": "markdown",
      "metadata": {
        "id": "view-in-github",
        "colab_type": "text"
      },
      "source": [
        "<a href=\"https://colab.research.google.com/github/superklex/Hamoye-externship/blob/master/Classification_Quiz.ipynb\" target=\"_parent\"><img src=\"https://colab.research.google.com/assets/colab-badge.svg\" alt=\"Open In Colab\"/></a>"
      ]
    },
    {
      "cell_type": "code",
      "metadata": {
        "id": "rNvs0WRggeDB"
      },
      "source": [
        "import pandas as pd\r\n",
        "data = [[355, 1480], [45, 120]]\r\n",
        "conf_matrix = pd.DataFrame(data, index=['Predicted: Spam', 'Predicted: Not Spam'],columns=['Actual: Spam', 'Actual: Not Spam'])\r\n",
        "\r\n",
        "conf_matrix\r\n",
        "TP = conf_matrix.iloc[0][0]\r\n",
        "FP = conf_matrix.iloc[0][1]\r\n",
        "TN = conf_matrix.iloc[1][1]\r\n",
        "FN = conf_matrix.iloc[1][0]"
      ],
      "execution_count": 1,
      "outputs": []
    },
    {
      "cell_type": "code",
      "metadata": {
        "id": "q3mN8Ubmgc5R",
        "colab": {
          "base_uri": "https://localhost:8080/"
        },
        "outputId": "35e795b7-c7fc-4cca-eb6d-9a26e6b96a6a"
      },
      "source": [
        "#f1= 2*((precision*recall)/(precision+recall))\r\n",
        "precision = TP/(TP + FP)\r\n",
        "recall = TP/(TP + FN)\r\n",
        "f1= 2*((precision*recall)/(precision+recall))\r\n",
        "f1\r\n"
      ],
      "execution_count": 2,
      "outputs": [
        {
          "output_type": "execute_result",
          "data": {
            "text/plain": [
              "0.3176733780760626"
            ]
          },
          "metadata": {
            "tags": []
          },
          "execution_count": 2
        }
      ]
    },
    {
      "cell_type": "code",
      "metadata": {
        "id": "7qQxPhRAgeOY"
      },
      "source": [
        ""
      ],
      "execution_count": 2,
      "outputs": []
    },
    {
      "cell_type": "code",
      "metadata": {
        "id": "7ia_AtVwbf8K"
      },
      "source": [
        "import pandas as pd\r\n",
        "import numpy as np\r\n",
        "import sklearn"
      ],
      "execution_count": 3,
      "outputs": []
    },
    {
      "cell_type": "code",
      "metadata": {
        "id": "IR1RDzihbkkd"
      },
      "source": [
        "df = pd.read_csv(\"https://raw.githubusercontent.com/superklex/my_datasets/master/Data_for_UCI_named.csv\")"
      ],
      "execution_count": 4,
      "outputs": []
    },
    {
      "cell_type": "code",
      "metadata": {
        "colab": {
          "base_uri": "https://localhost:8080/",
          "height": 221
        },
        "id": "BcDtJ7fRbq1R",
        "outputId": "f2531915-3763-443c-db74-6abd52ca214c"
      },
      "source": [
        "df.head()"
      ],
      "execution_count": 5,
      "outputs": [
        {
          "output_type": "execute_result",
          "data": {
            "text/html": [
              "<div>\n",
              "<style scoped>\n",
              "    .dataframe tbody tr th:only-of-type {\n",
              "        vertical-align: middle;\n",
              "    }\n",
              "\n",
              "    .dataframe tbody tr th {\n",
              "        vertical-align: top;\n",
              "    }\n",
              "\n",
              "    .dataframe thead th {\n",
              "        text-align: right;\n",
              "    }\n",
              "</style>\n",
              "<table border=\"1\" class=\"dataframe\">\n",
              "  <thead>\n",
              "    <tr style=\"text-align: right;\">\n",
              "      <th></th>\n",
              "      <th>tau1</th>\n",
              "      <th>tau2</th>\n",
              "      <th>tau3</th>\n",
              "      <th>tau4</th>\n",
              "      <th>p1</th>\n",
              "      <th>p2</th>\n",
              "      <th>p3</th>\n",
              "      <th>p4</th>\n",
              "      <th>g1</th>\n",
              "      <th>g2</th>\n",
              "      <th>g3</th>\n",
              "      <th>g4</th>\n",
              "      <th>stab</th>\n",
              "      <th>stabf</th>\n",
              "    </tr>\n",
              "  </thead>\n",
              "  <tbody>\n",
              "    <tr>\n",
              "      <th>0</th>\n",
              "      <td>2.959060</td>\n",
              "      <td>3.079885</td>\n",
              "      <td>8.381025</td>\n",
              "      <td>9.780754</td>\n",
              "      <td>3.763085</td>\n",
              "      <td>-0.782604</td>\n",
              "      <td>-1.257395</td>\n",
              "      <td>-1.723086</td>\n",
              "      <td>0.650456</td>\n",
              "      <td>0.859578</td>\n",
              "      <td>0.887445</td>\n",
              "      <td>0.958034</td>\n",
              "      <td>0.055347</td>\n",
              "      <td>unstable</td>\n",
              "    </tr>\n",
              "    <tr>\n",
              "      <th>1</th>\n",
              "      <td>9.304097</td>\n",
              "      <td>4.902524</td>\n",
              "      <td>3.047541</td>\n",
              "      <td>1.369357</td>\n",
              "      <td>5.067812</td>\n",
              "      <td>-1.940058</td>\n",
              "      <td>-1.872742</td>\n",
              "      <td>-1.255012</td>\n",
              "      <td>0.413441</td>\n",
              "      <td>0.862414</td>\n",
              "      <td>0.562139</td>\n",
              "      <td>0.781760</td>\n",
              "      <td>-0.005957</td>\n",
              "      <td>stable</td>\n",
              "    </tr>\n",
              "    <tr>\n",
              "      <th>2</th>\n",
              "      <td>8.971707</td>\n",
              "      <td>8.848428</td>\n",
              "      <td>3.046479</td>\n",
              "      <td>1.214518</td>\n",
              "      <td>3.405158</td>\n",
              "      <td>-1.207456</td>\n",
              "      <td>-1.277210</td>\n",
              "      <td>-0.920492</td>\n",
              "      <td>0.163041</td>\n",
              "      <td>0.766689</td>\n",
              "      <td>0.839444</td>\n",
              "      <td>0.109853</td>\n",
              "      <td>0.003471</td>\n",
              "      <td>unstable</td>\n",
              "    </tr>\n",
              "    <tr>\n",
              "      <th>3</th>\n",
              "      <td>0.716415</td>\n",
              "      <td>7.669600</td>\n",
              "      <td>4.486641</td>\n",
              "      <td>2.340563</td>\n",
              "      <td>3.963791</td>\n",
              "      <td>-1.027473</td>\n",
              "      <td>-1.938944</td>\n",
              "      <td>-0.997374</td>\n",
              "      <td>0.446209</td>\n",
              "      <td>0.976744</td>\n",
              "      <td>0.929381</td>\n",
              "      <td>0.362718</td>\n",
              "      <td>0.028871</td>\n",
              "      <td>unstable</td>\n",
              "    </tr>\n",
              "    <tr>\n",
              "      <th>4</th>\n",
              "      <td>3.134112</td>\n",
              "      <td>7.608772</td>\n",
              "      <td>4.943759</td>\n",
              "      <td>9.857573</td>\n",
              "      <td>3.525811</td>\n",
              "      <td>-1.125531</td>\n",
              "      <td>-1.845975</td>\n",
              "      <td>-0.554305</td>\n",
              "      <td>0.797110</td>\n",
              "      <td>0.455450</td>\n",
              "      <td>0.656947</td>\n",
              "      <td>0.820923</td>\n",
              "      <td>0.049860</td>\n",
              "      <td>unstable</td>\n",
              "    </tr>\n",
              "  </tbody>\n",
              "</table>\n",
              "</div>"
            ],
            "text/plain": [
              "       tau1      tau2      tau3  ...        g4      stab     stabf\n",
              "0  2.959060  3.079885  8.381025  ...  0.958034  0.055347  unstable\n",
              "1  9.304097  4.902524  3.047541  ...  0.781760 -0.005957    stable\n",
              "2  8.971707  8.848428  3.046479  ...  0.109853  0.003471  unstable\n",
              "3  0.716415  7.669600  4.486641  ...  0.362718  0.028871  unstable\n",
              "4  3.134112  7.608772  4.943759  ...  0.820923  0.049860  unstable\n",
              "\n",
              "[5 rows x 14 columns]"
            ]
          },
          "metadata": {
            "tags": []
          },
          "execution_count": 5
        }
      ]
    },
    {
      "cell_type": "code",
      "metadata": {
        "colab": {
          "base_uri": "https://localhost:8080/"
        },
        "id": "LCdV06uJbsAv",
        "outputId": "1cd7b4a9-2786-4401-b10c-03fe4d4780a8"
      },
      "source": [
        "df.isnull().sum()"
      ],
      "execution_count": 6,
      "outputs": [
        {
          "output_type": "execute_result",
          "data": {
            "text/plain": [
              "tau1     0\n",
              "tau2     0\n",
              "tau3     0\n",
              "tau4     0\n",
              "p1       0\n",
              "p2       0\n",
              "p3       0\n",
              "p4       0\n",
              "g1       0\n",
              "g2       0\n",
              "g3       0\n",
              "g4       0\n",
              "stab     0\n",
              "stabf    0\n",
              "dtype: int64"
            ]
          },
          "metadata": {
            "tags": []
          },
          "execution_count": 6
        }
      ]
    },
    {
      "cell_type": "code",
      "metadata": {
        "colab": {
          "base_uri": "https://localhost:8080/"
        },
        "id": "cwvzWYqwlYsb",
        "outputId": "5bf8fbe5-643b-46b7-b184-3cac9865e878"
      },
      "source": [
        "df.dtypes"
      ],
      "execution_count": 7,
      "outputs": [
        {
          "output_type": "execute_result",
          "data": {
            "text/plain": [
              "tau1     float64\n",
              "tau2     float64\n",
              "tau3     float64\n",
              "tau4     float64\n",
              "p1       float64\n",
              "p2       float64\n",
              "p3       float64\n",
              "p4       float64\n",
              "g1       float64\n",
              "g2       float64\n",
              "g3       float64\n",
              "g4       float64\n",
              "stab     float64\n",
              "stabf     object\n",
              "dtype: object"
            ]
          },
          "metadata": {
            "tags": []
          },
          "execution_count": 7
        }
      ]
    },
    {
      "cell_type": "code",
      "metadata": {
        "id": "9ryc8YLUld3y"
      },
      "source": [
        "#dropping the stab column\r\n",
        "df = df.drop(\"stab\", axis =1)"
      ],
      "execution_count": 8,
      "outputs": []
    },
    {
      "cell_type": "code",
      "metadata": {
        "id": "E3dw_KT1luqQ"
      },
      "source": [
        "from sklearn.preprocessing import LabelEncoder\r\n",
        "label = LabelEncoder()\r\n",
        "df.stabf = label.fit(df.stabf).transform(df.stabf)"
      ],
      "execution_count": 9,
      "outputs": []
    },
    {
      "cell_type": "code",
      "metadata": {
        "colab": {
          "base_uri": "https://localhost:8080/"
        },
        "id": "1dYPVBmOmGYq",
        "outputId": "9060aa4b-83bb-425b-a9dc-079b8e340090"
      },
      "source": [
        "df.stabf"
      ],
      "execution_count": 10,
      "outputs": [
        {
          "output_type": "execute_result",
          "data": {
            "text/plain": [
              "0       1\n",
              "1       0\n",
              "2       1\n",
              "3       1\n",
              "4       1\n",
              "       ..\n",
              "9995    1\n",
              "9996    0\n",
              "9997    0\n",
              "9998    1\n",
              "9999    1\n",
              "Name: stabf, Length: 10000, dtype: int64"
            ]
          },
          "metadata": {
            "tags": []
          },
          "execution_count": 10
        }
      ]
    },
    {
      "cell_type": "code",
      "metadata": {
        "id": "dOEbukLamIf8"
      },
      "source": [
        "#importing a scaler for the data\r\n",
        "from sklearn.preprocessing import StandardScaler\r\n",
        "scaler =StandardScaler()\r\n",
        "scaled_df = pd.DataFrame(scaler.fit_transform(df), columns = df.columns)"
      ],
      "execution_count": 11,
      "outputs": []
    },
    {
      "cell_type": "code",
      "metadata": {
        "id": "-lePd_tmmX6s"
      },
      "source": [
        "#getting target and features\r\n",
        "x = scaled_df.drop(\"stabf\", axis = 1)\r\n",
        "y = df.stabf"
      ],
      "execution_count": 12,
      "outputs": []
    },
    {
      "cell_type": "code",
      "metadata": {
        "id": "FvG1i3gCnAMk"
      },
      "source": [
        "#splitting\r\n",
        "from sklearn.model_selection import train_test_split\r\n",
        "x_train, x_test, y_train, y_test = train_test_split(x, y, test_size = 0.2, random_state = 1)"
      ],
      "execution_count": 13,
      "outputs": []
    },
    {
      "cell_type": "code",
      "metadata": {
        "id": "IYobbv7Sn0Qq"
      },
      "source": [
        "# Importing Random Forest Classifier, setting the random state = 1\r\n",
        "from sklearn.ensemble import RandomForestClassifier\r\n",
        "clf = RandomForestClassifier(random_state = 1)"
      ],
      "execution_count": 14,
      "outputs": []
    },
    {
      "cell_type": "code",
      "metadata": {
        "colab": {
          "base_uri": "https://localhost:8080/"
        },
        "id": "G0-jvZv3oqFL",
        "outputId": "621c0a03-adad-472b-a501-98e1e008c866"
      },
      "source": [
        "clf.fit(x_train, y_train)"
      ],
      "execution_count": 15,
      "outputs": [
        {
          "output_type": "execute_result",
          "data": {
            "text/plain": [
              "RandomForestClassifier(bootstrap=True, ccp_alpha=0.0, class_weight=None,\n",
              "                       criterion='gini', max_depth=None, max_features='auto',\n",
              "                       max_leaf_nodes=None, max_samples=None,\n",
              "                       min_impurity_decrease=0.0, min_impurity_split=None,\n",
              "                       min_samples_leaf=1, min_samples_split=2,\n",
              "                       min_weight_fraction_leaf=0.0, n_estimators=100,\n",
              "                       n_jobs=None, oob_score=False, random_state=1, verbose=0,\n",
              "                       warm_start=False)"
            ]
          },
          "metadata": {
            "tags": []
          },
          "execution_count": 15
        }
      ]
    },
    {
      "cell_type": "code",
      "metadata": {
        "id": "A3AyZcokn1Hg"
      },
      "source": [
        "# Predicting with the test data\r\n",
        "clf_pred = clf.predict(x_test)"
      ],
      "execution_count": 16,
      "outputs": []
    },
    {
      "cell_type": "code",
      "metadata": {
        "colab": {
          "base_uri": "https://localhost:8080/"
        },
        "id": "fCxBeemNoGU2",
        "outputId": "103ebcff-be55-434b-f46c-9406d7bac12b"
      },
      "source": [
        "#checking the accuracy\r\n",
        "from sklearn.metrics import accuracy_score\r\n",
        "clf_acc = accuracy_score(clf_pred, y_test)\r\n",
        "print(clf_acc)"
      ],
      "execution_count": 17,
      "outputs": [
        {
          "output_type": "stream",
          "text": [
            "0.929\n"
          ],
          "name": "stdout"
        }
      ]
    },
    {
      "cell_type": "code",
      "metadata": {
        "colab": {
          "base_uri": "https://localhost:8080/"
        },
        "id": "eQIRXEADo4Hu",
        "outputId": "011b961a-bd54-4f5a-80d4-7d2d8264c56d"
      },
      "source": [
        "import xgboost as xgb\r\n",
        "model = xgb.XGBClassifier(random_state = 1)\r\n",
        "\r\n",
        "# Fit the model\r\n",
        "model.fit(x_train, y_train)\r\n",
        "\r\n",
        "# Predicting with the test data\r\n",
        "model_pred = model.predict(x_test)\r\n",
        "\r\n",
        "#checking the accuracy\r\n",
        "model_acc = accuracy_score(model_pred, y_test)\r\n",
        "print(model_acc)"
      ],
      "execution_count": 18,
      "outputs": [
        {
          "output_type": "stream",
          "text": [
            "0.9195\n"
          ],
          "name": "stdout"
        }
      ]
    },
    {
      "cell_type": "code",
      "metadata": {
        "colab": {
          "base_uri": "https://localhost:8080/"
        },
        "id": "53t8v6vppASl",
        "outputId": "f29d5fe5-1df8-4e1b-ad1a-ad2162fb91e8"
      },
      "source": [
        "import lightgbm as gbm\r\n",
        "lgbm = gbm.LGBMClassifier(random_state = 1)\r\n",
        "\r\n",
        "# Fit the model\r\n",
        "lgbm.fit(x_train, y_train)\r\n",
        "\r\n",
        "# Predicting with the test data\r\n",
        "lgbm_pred = lgbm.predict(x_test)\r\n",
        "\r\n",
        "# checking the accuracy\r\n",
        "lgbm_acc = accuracy_score(lgbm_pred, y_test)\r\n",
        "print(lgbm_acc)"
      ],
      "execution_count": 19,
      "outputs": [
        {
          "output_type": "stream",
          "text": [
            "0.9475\n"
          ],
          "name": "stdout"
        }
      ]
    },
    {
      "cell_type": "code",
      "metadata": {
        "id": "llkPUl7KpcdJ"
      },
      "source": [
        "from sklearn.ensemble import ExtraTreesClassifier\r\n",
        "extra = ExtraTreesClassifier()\r\n",
        "\r\n",
        "# Hyper-parameters\r\n",
        "n_estimators = [50, 100, 300, 500, 1000]\r\n",
        "min_samples_split = [2, 3, 5, 7, 9]\r\n",
        "min_samples_leaf = [1, 2, 4, 6, 8]\r\n",
        "max_features = ['auto', 'sqrt', 'log2', None]\r\n",
        "\r\n",
        "# Parameter grid\r\n",
        "param_grid = {'n_estimators': n_estimators, 'min_samples_leaf': min_samples_leaf, 'min_samples_split': min_samples_split, 'max_features': max_features}\r\n"
      ],
      "execution_count": 20,
      "outputs": []
    },
    {
      "cell_type": "code",
      "metadata": {
        "colab": {
          "base_uri": "https://localhost:8080/"
        },
        "id": "liqG2luUpwW6",
        "outputId": "e02fe470-bf2a-48a9-ecb4-46d45ef018db"
      },
      "source": [
        "# Importing Random Search CV\r\n",
        "from sklearn.model_selection import RandomizedSearchCV\r\n",
        "\r\n",
        "# Random Search for hyper-parameter optimization\r\n",
        "rscv = RandomizedSearchCV(extra, param_grid, cv = 5, n_iter = 10, scoring = 'accuracy', n_jobs = -1, verbose = 1, random_state = 1)\r\n",
        "\r\n",
        "# Fit the model\r\n",
        "rscv.fit(x_train, y_train)\r\n",
        "\r\n",
        "# best estimators\r\n",
        "print(rscv.best_estimator_)\r\n",
        "print(rscv.best_estimator_.min_samples_split)"
      ],
      "execution_count": 21,
      "outputs": [
        {
          "output_type": "stream",
          "text": [
            "Fitting 5 folds for each of 10 candidates, totalling 50 fits\n"
          ],
          "name": "stdout"
        },
        {
          "output_type": "stream",
          "text": [
            "[Parallel(n_jobs=-1)]: Using backend LokyBackend with 2 concurrent workers.\n",
            "[Parallel(n_jobs=-1)]: Done  46 tasks      | elapsed:  1.5min\n",
            "[Parallel(n_jobs=-1)]: Done  50 out of  50 | elapsed:  1.6min finished\n"
          ],
          "name": "stderr"
        },
        {
          "output_type": "stream",
          "text": [
            "ExtraTreesClassifier(bootstrap=False, ccp_alpha=0.0, class_weight=None,\n",
            "                     criterion='gini', max_depth=None, max_features=None,\n",
            "                     max_leaf_nodes=None, max_samples=None,\n",
            "                     min_impurity_decrease=0.0, min_impurity_split=None,\n",
            "                     min_samples_leaf=8, min_samples_split=2,\n",
            "                     min_weight_fraction_leaf=0.0, n_estimators=1000,\n",
            "                     n_jobs=None, oob_score=False, random_state=None, verbose=0,\n",
            "                     warm_start=False)\n",
            "2\n"
          ],
          "name": "stdout"
        }
      ]
    },
    {
      "cell_type": "code",
      "metadata": {
        "colab": {
          "base_uri": "https://localhost:8080/"
        },
        "id": "CIvW5XMcp_Hh",
        "outputId": "5cf4ec35-fa04-415c-8180-fdd4f99fbdb5"
      },
      "source": [
        "#new optimal model\r\n",
        "\r\n",
        "extclass = ExtraTreesClassifier(max_features = None, min_samples_leaf = 8, n_estimators = 1000, min_samples_split = 2, random_state = 1)\r\n",
        "\r\n",
        "# Fit the model\r\n",
        "extclass.fit(x_train, y_train)\r\n",
        "\r\n",
        "# Predicting with the test data\r\n",
        "extclass_pred = extclass.predict(x_test)\r\n",
        "\r\n",
        "# Obtain the accuracy\r\n",
        "extclass_acc = accuracy_score(extclass_pred, y_test)\r\n",
        "print(extclass_acc)\r\n",
        "\r\n",
        "# Taking the initial Extra Trees Classifier with no hyper-parameter tuning\r\n",
        "# Fit the model\r\n",
        "extra.fit(x_train, y_train)\r\n",
        "\r\n",
        "# Predict on the test data\r\n",
        "extra_pred = extra.predict(x_test)\r\n",
        "\r\n",
        "# Obtain the accuracy\r\n",
        "extra_acc = accuracy_score(extra_pred, y_test)\r\n",
        "print(extra_acc)\r\n",
        "\r\n"
      ],
      "execution_count": 22,
      "outputs": [
        {
          "output_type": "stream",
          "text": [
            "0.927\n",
            "0.9245\n"
          ],
          "name": "stdout"
        }
      ]
    },
    {
      "cell_type": "code",
      "metadata": {
        "colab": {
          "base_uri": "https://localhost:8080/"
        },
        "id": "Avb4Zl1ZsG0V",
        "outputId": "745535e3-d8c8-461c-8bcf-e064b354f6d3"
      },
      "source": [
        "extclass_acc < extra_acc"
      ],
      "execution_count": 23,
      "outputs": [
        {
          "output_type": "execute_result",
          "data": {
            "text/plain": [
              "False"
            ]
          },
          "metadata": {
            "tags": []
          },
          "execution_count": 23
        }
      ]
    },
    {
      "cell_type": "code",
      "metadata": {
        "colab": {
          "base_uri": "https://localhost:8080/"
        },
        "id": "FHCtmcbos7Pl",
        "outputId": "bae6e061-8391-4c85-bf21-766fd9d83d36"
      },
      "source": [
        "# Function to obtain the important features\r\n",
        "def get_weights_df(model, feat, col_name):\r\n",
        "  weights = pd.Series(model.feature_importances_, feat.columns).sort_values()\r\n",
        "  weights_df = pd.DataFrame(weights).reset_index()\r\n",
        "  weights_df.columns = ['Features', col_name]\r\n",
        "  weights_df[col_name].round(3)\r\n",
        "  return weights_df\r\n",
        "\r\n",
        "extra.fit(x_train, y_train)\r\n",
        "\r\n",
        "model_weights = get_weights_df(extra, x_train, 'Feature_Importance')\r\n",
        "model_weights.nsmallest"
      ],
      "execution_count": 24,
      "outputs": [
        {
          "output_type": "execute_result",
          "data": {
            "text/plain": [
              "<bound method DataFrame.nsmallest of    Features  Feature_Importance\n",
              "0        p1            0.040283\n",
              "1        p2            0.040510\n",
              "2        p4            0.040557\n",
              "3        p3            0.041022\n",
              "4        g1            0.088812\n",
              "5        g4            0.093256\n",
              "6        g2            0.094524\n",
              "7        g3            0.096135\n",
              "8      tau3            0.115091\n",
              "9      tau4            0.115109\n",
              "10     tau1            0.116725\n",
              "11     tau2            0.117978>"
            ]
          },
          "metadata": {
            "tags": []
          },
          "execution_count": 24
        }
      ]
    },
    {
      "cell_type": "code",
      "metadata": {
        "colab": {
          "base_uri": "https://localhost:8080/",
          "height": 416
        },
        "id": "BtC22OpCux4G",
        "outputId": "5b3b7bc7-305f-4017-d982-873492d09deb"
      },
      "source": [
        "model_weights"
      ],
      "execution_count": 25,
      "outputs": [
        {
          "output_type": "execute_result",
          "data": {
            "text/html": [
              "<div>\n",
              "<style scoped>\n",
              "    .dataframe tbody tr th:only-of-type {\n",
              "        vertical-align: middle;\n",
              "    }\n",
              "\n",
              "    .dataframe tbody tr th {\n",
              "        vertical-align: top;\n",
              "    }\n",
              "\n",
              "    .dataframe thead th {\n",
              "        text-align: right;\n",
              "    }\n",
              "</style>\n",
              "<table border=\"1\" class=\"dataframe\">\n",
              "  <thead>\n",
              "    <tr style=\"text-align: right;\">\n",
              "      <th></th>\n",
              "      <th>Features</th>\n",
              "      <th>Feature_Importance</th>\n",
              "    </tr>\n",
              "  </thead>\n",
              "  <tbody>\n",
              "    <tr>\n",
              "      <th>0</th>\n",
              "      <td>p1</td>\n",
              "      <td>0.040283</td>\n",
              "    </tr>\n",
              "    <tr>\n",
              "      <th>1</th>\n",
              "      <td>p2</td>\n",
              "      <td>0.040510</td>\n",
              "    </tr>\n",
              "    <tr>\n",
              "      <th>2</th>\n",
              "      <td>p4</td>\n",
              "      <td>0.040557</td>\n",
              "    </tr>\n",
              "    <tr>\n",
              "      <th>3</th>\n",
              "      <td>p3</td>\n",
              "      <td>0.041022</td>\n",
              "    </tr>\n",
              "    <tr>\n",
              "      <th>4</th>\n",
              "      <td>g1</td>\n",
              "      <td>0.088812</td>\n",
              "    </tr>\n",
              "    <tr>\n",
              "      <th>5</th>\n",
              "      <td>g4</td>\n",
              "      <td>0.093256</td>\n",
              "    </tr>\n",
              "    <tr>\n",
              "      <th>6</th>\n",
              "      <td>g2</td>\n",
              "      <td>0.094524</td>\n",
              "    </tr>\n",
              "    <tr>\n",
              "      <th>7</th>\n",
              "      <td>g3</td>\n",
              "      <td>0.096135</td>\n",
              "    </tr>\n",
              "    <tr>\n",
              "      <th>8</th>\n",
              "      <td>tau3</td>\n",
              "      <td>0.115091</td>\n",
              "    </tr>\n",
              "    <tr>\n",
              "      <th>9</th>\n",
              "      <td>tau4</td>\n",
              "      <td>0.115109</td>\n",
              "    </tr>\n",
              "    <tr>\n",
              "      <th>10</th>\n",
              "      <td>tau1</td>\n",
              "      <td>0.116725</td>\n",
              "    </tr>\n",
              "    <tr>\n",
              "      <th>11</th>\n",
              "      <td>tau2</td>\n",
              "      <td>0.117978</td>\n",
              "    </tr>\n",
              "  </tbody>\n",
              "</table>\n",
              "</div>"
            ],
            "text/plain": [
              "   Features  Feature_Importance\n",
              "0        p1            0.040283\n",
              "1        p2            0.040510\n",
              "2        p4            0.040557\n",
              "3        p3            0.041022\n",
              "4        g1            0.088812\n",
              "5        g4            0.093256\n",
              "6        g2            0.094524\n",
              "7        g3            0.096135\n",
              "8      tau3            0.115091\n",
              "9      tau4            0.115109\n",
              "10     tau1            0.116725\n",
              "11     tau2            0.117978"
            ]
          },
          "metadata": {
            "tags": []
          },
          "execution_count": 25
        }
      ]
    },
    {
      "cell_type": "code",
      "metadata": {
        "id": "Imi7HE8Av6lP"
      },
      "source": [
        ""
      ],
      "execution_count": 25,
      "outputs": []
    }
  ]
}