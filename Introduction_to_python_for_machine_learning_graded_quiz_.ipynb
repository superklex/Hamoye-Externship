{
  "nbformat": 4,
  "nbformat_minor": 0,
  "metadata": {
    "colab": {
      "name": "Introduction to python for machine learning graded quiz .ipynb",
      "provenance": [],
      "collapsed_sections": [],
      "authorship_tag": "ABX9TyPDEbmPODh0jhXsTPBy3JO1",
      "include_colab_link": true
    },
    "kernelspec": {
      "name": "python3",
      "display_name": "Python 3"
    }
  },
  "cells": [
    {
      "cell_type": "markdown",
      "metadata": {
        "id": "view-in-github",
        "colab_type": "text"
      },
      "source": [
        "<a href=\"https://colab.research.google.com/github/superklex/Hamoye-externship/blob/master/Introduction_to_python_for_machine_learning_graded_quiz_.ipynb\" target=\"_parent\"><img src=\"https://colab.research.google.com/assets/colab-badge.svg\" alt=\"Open In Colab\"/></a>"
      ]
    },
    {
      "cell_type": "code",
      "metadata": {
        "id": "ZEP7c1C5xrgz"
      },
      "source": [
        "import pandas as pd\r\n",
        "import numpy as np\r\n",
        "import matplotlib\r\n",
        "import matplotlib.pyplot as plt\r\n",
        "pd.set_option(\"display.max_columns\", None)\r\n",
        "pd.set_option(\"display.width\", 15000)\r\n",
        "pd.set_option('display.notebook_repr_html', True)"
      ],
      "execution_count": 1,
      "outputs": []
    },
    {
      "cell_type": "code",
      "metadata": {
        "id": "NCvhEHeh_CgF"
      },
      "source": [
        "fuel_url= \"https://raw.githubusercontent.com/WalePhenomenon/climate_change/master/fuel_ferc1.csv\"\r\n",
        "df = pd.read_csv(fuel_url)"
      ],
      "execution_count": 2,
      "outputs": []
    },
    {
      "cell_type": "code",
      "metadata": {
        "colab": {
          "base_uri": "https://localhost:8080/"
        },
        "id": "DdheajDbCnC8",
        "outputId": "5cf94696-c573-4589-8628-e69c85e5ed48"
      },
      "source": [
        "#Question 1\r\n",
        "A =[1,2,3,4,5,6]\r\n",
        "B= [13,21,34]\r\n",
        "A.extend(B)\r\n",
        "print(A)"
      ],
      "execution_count": 3,
      "outputs": [
        {
          "output_type": "stream",
          "text": [
            "[1, 2, 3, 4, 5, 6, 13, 21, 34]\n"
          ],
          "name": "stdout"
        }
      ]
    },
    {
      "cell_type": "code",
      "metadata": {
        "colab": {
          "base_uri": "https://localhost:8080/"
        },
        "id": "OxP2ZM_hC8Vy",
        "outputId": "b509b28b-9905-4d98-bdde-33b58b95b763"
      },
      "source": [
        "#Question 2 \r\n",
        "np.identity(3)"
      ],
      "execution_count": 4,
      "outputs": [
        {
          "output_type": "execute_result",
          "data": {
            "text/plain": [
              "array([[1., 0., 0.],\n",
              "       [0., 1., 0.],\n",
              "       [0., 0., 1.]])"
            ]
          },
          "metadata": {
            "tags": []
          },
          "execution_count": 4
        }
      ]
    },
    {
      "cell_type": "code",
      "metadata": {
        "colab": {
          "base_uri": "https://localhost:8080/"
        },
        "id": "9mM9g0HPDymV",
        "outputId": "2567d203-5f00-4adc-938b-e6ac4a51ff0d"
      },
      "source": [
        "#Question 3\r\n",
        "AverageFuelCostBurned = df.groupby(\"fuel_type_code_pudl\")[\"fuel_cost_per_unit_burned\"].mean()\r\n",
        "Asc_avg_fuel_cost_burned = AverageFuelCostBurned.sort_values(ascending=True)\r\n",
        "Asc_avg_fuel_cost_burned.head"
      ],
      "execution_count": 5,
      "outputs": [
        {
          "output_type": "execute_result",
          "data": {
            "text/plain": [
              "<bound method NDFrame.head of fuel_type_code_pudl\n",
              "gas          13.659397\n",
              "other        18.253856\n",
              "waste        19.518122\n",
              "coal         67.421830\n",
              "oil         168.877086\n",
              "nuclear    4955.157002\n",
              "Name: fuel_cost_per_unit_burned, dtype: float64>"
            ]
          },
          "metadata": {
            "tags": []
          },
          "execution_count": 5
        }
      ]
    },
    {
      "cell_type": "code",
      "metadata": {
        "colab": {
          "base_uri": "https://localhost:8080/",
          "height": 304
        },
        "id": "CVssCFLCD6ZK",
        "outputId": "d57375d9-fb9d-455e-a558-24419db7e908"
      },
      "source": [
        "#Question 4\r\n",
        "\r\n",
        "df.describe()"
      ],
      "execution_count": 6,
      "outputs": [
        {
          "output_type": "execute_result",
          "data": {
            "text/html": [
              "<div>\n",
              "<style scoped>\n",
              "    .dataframe tbody tr th:only-of-type {\n",
              "        vertical-align: middle;\n",
              "    }\n",
              "\n",
              "    .dataframe tbody tr th {\n",
              "        vertical-align: top;\n",
              "    }\n",
              "\n",
              "    .dataframe thead th {\n",
              "        text-align: right;\n",
              "    }\n",
              "</style>\n",
              "<table border=\"1\" class=\"dataframe\">\n",
              "  <thead>\n",
              "    <tr style=\"text-align: right;\">\n",
              "      <th></th>\n",
              "      <th>utility_id_ferc1</th>\n",
              "      <th>report_year</th>\n",
              "      <th>fuel_qty_burned</th>\n",
              "      <th>fuel_mmbtu_per_unit</th>\n",
              "      <th>fuel_cost_per_unit_burned</th>\n",
              "      <th>fuel_cost_per_unit_delivered</th>\n",
              "      <th>fuel_cost_per_mmbtu</th>\n",
              "    </tr>\n",
              "  </thead>\n",
              "  <tbody>\n",
              "    <tr>\n",
              "      <th>count</th>\n",
              "      <td>29523.000000</td>\n",
              "      <td>29523.000000</td>\n",
              "      <td>2.952300e+04</td>\n",
              "      <td>29523.000000</td>\n",
              "      <td>29523.000000</td>\n",
              "      <td>2.952300e+04</td>\n",
              "      <td>29523.000000</td>\n",
              "    </tr>\n",
              "    <tr>\n",
              "      <th>mean</th>\n",
              "      <td>118.601836</td>\n",
              "      <td>2005.806050</td>\n",
              "      <td>2.622119e+06</td>\n",
              "      <td>8.492111</td>\n",
              "      <td>208.649031</td>\n",
              "      <td>9.175704e+02</td>\n",
              "      <td>19.304354</td>\n",
              "    </tr>\n",
              "    <tr>\n",
              "      <th>std</th>\n",
              "      <td>74.178353</td>\n",
              "      <td>7.025483</td>\n",
              "      <td>9.118004e+06</td>\n",
              "      <td>10.600220</td>\n",
              "      <td>2854.490090</td>\n",
              "      <td>6.877593e+04</td>\n",
              "      <td>2091.540939</td>\n",
              "    </tr>\n",
              "    <tr>\n",
              "      <th>min</th>\n",
              "      <td>1.000000</td>\n",
              "      <td>1994.000000</td>\n",
              "      <td>1.000000e+00</td>\n",
              "      <td>0.000001</td>\n",
              "      <td>-276.080000</td>\n",
              "      <td>-8.749370e+02</td>\n",
              "      <td>-41.501000</td>\n",
              "    </tr>\n",
              "    <tr>\n",
              "      <th>25%</th>\n",
              "      <td>55.000000</td>\n",
              "      <td>2000.000000</td>\n",
              "      <td>1.381700e+04</td>\n",
              "      <td>1.024000</td>\n",
              "      <td>5.207000</td>\n",
              "      <td>3.778500e+00</td>\n",
              "      <td>1.940000</td>\n",
              "    </tr>\n",
              "    <tr>\n",
              "      <th>50%</th>\n",
              "      <td>122.000000</td>\n",
              "      <td>2006.000000</td>\n",
              "      <td>2.533220e+05</td>\n",
              "      <td>5.762694</td>\n",
              "      <td>26.000000</td>\n",
              "      <td>1.737100e+01</td>\n",
              "      <td>4.127000</td>\n",
              "    </tr>\n",
              "    <tr>\n",
              "      <th>75%</th>\n",
              "      <td>176.000000</td>\n",
              "      <td>2012.000000</td>\n",
              "      <td>1.424034e+06</td>\n",
              "      <td>17.006000</td>\n",
              "      <td>47.113000</td>\n",
              "      <td>4.213700e+01</td>\n",
              "      <td>7.745000</td>\n",
              "    </tr>\n",
              "    <tr>\n",
              "      <th>max</th>\n",
              "      <td>514.000000</td>\n",
              "      <td>2018.000000</td>\n",
              "      <td>5.558942e+08</td>\n",
              "      <td>341.260000</td>\n",
              "      <td>139358.000000</td>\n",
              "      <td>7.964521e+06</td>\n",
              "      <td>359278.000000</td>\n",
              "    </tr>\n",
              "  </tbody>\n",
              "</table>\n",
              "</div>"
            ],
            "text/plain": [
              "       utility_id_ferc1   report_year  fuel_qty_burned  fuel_mmbtu_per_unit  fuel_cost_per_unit_burned  fuel_cost_per_unit_delivered  fuel_cost_per_mmbtu\n",
              "count      29523.000000  29523.000000     2.952300e+04         29523.000000               29523.000000                  2.952300e+04         29523.000000\n",
              "mean         118.601836   2005.806050     2.622119e+06             8.492111                 208.649031                  9.175704e+02            19.304354\n",
              "std           74.178353      7.025483     9.118004e+06            10.600220                2854.490090                  6.877593e+04          2091.540939\n",
              "min            1.000000   1994.000000     1.000000e+00             0.000001                -276.080000                 -8.749370e+02           -41.501000\n",
              "25%           55.000000   2000.000000     1.381700e+04             1.024000                   5.207000                  3.778500e+00             1.940000\n",
              "50%          122.000000   2006.000000     2.533220e+05             5.762694                  26.000000                  1.737100e+01             4.127000\n",
              "75%          176.000000   2012.000000     1.424034e+06            17.006000                  47.113000                  4.213700e+01             7.745000\n",
              "max          514.000000   2018.000000     5.558942e+08           341.260000              139358.000000                  7.964521e+06        359278.000000"
            ]
          },
          "metadata": {
            "tags": []
          },
          "execution_count": 6
        }
      ]
    },
    {
      "cell_type": "code",
      "metadata": {
        "colab": {
          "base_uri": "https://localhost:8080/"
        },
        "id": "FtFaQriEFmZS",
        "outputId": "f5adde7c-0bde-4ce5-cf74-a5e22263f6c2"
      },
      "source": [
        "#Question 5\r\n",
        "round(df[\"fuel_qty_burned\"].skew(), 2)"
      ],
      "execution_count": 7,
      "outputs": [
        {
          "output_type": "execute_result",
          "data": {
            "text/plain": [
              "15.85"
            ]
          },
          "metadata": {
            "tags": []
          },
          "execution_count": 7
        }
      ]
    },
    {
      "cell_type": "code",
      "metadata": {
        "colab": {
          "base_uri": "https://localhost:8080/"
        },
        "id": "qnJNVRgbGf7t",
        "outputId": "e1ec3f30-041c-4122-c02e-8ad0946410e6"
      },
      "source": [
        "round(df[\"fuel_qty_burned\"].kurt(), 2)"
      ],
      "execution_count": 8,
      "outputs": [
        {
          "output_type": "execute_result",
          "data": {
            "text/plain": [
              "651.37"
            ]
          },
          "metadata": {
            "tags": []
          },
          "execution_count": 8
        }
      ]
    },
    {
      "cell_type": "code",
      "metadata": {
        "colab": {
          "base_uri": "https://localhost:8080/"
        },
        "id": "hCB7Zfe7Gh7h",
        "outputId": "99e6c982-07d4-4e1e-e2f8-7727a2259b7d"
      },
      "source": [
        "#Question 6\r\n",
        "df.isnull().sum()"
      ],
      "execution_count": 26,
      "outputs": [
        {
          "output_type": "execute_result",
          "data": {
            "text/plain": [
              "record_id                         0\n",
              "utility_id_ferc1                  0\n",
              "report_year                       0\n",
              "plant_name_ferc1                  0\n",
              "fuel_type_code_pudl               0\n",
              "fuel_unit                       180\n",
              "fuel_qty_burned                   0\n",
              "fuel_mmbtu_per_unit               0\n",
              "fuel_cost_per_unit_burned         0\n",
              "fuel_cost_per_unit_delivered      0\n",
              "fuel_cost_per_mmbtu               0\n",
              "dtype: int64"
            ]
          },
          "metadata": {
            "tags": []
          },
          "execution_count": 26
        }
      ]
    },
    {
      "cell_type": "code",
      "metadata": {
        "colab": {
          "base_uri": "https://localhost:8080/"
        },
        "id": "IOl_3rtuLkHX",
        "outputId": "20e958bc-0a98-4797-fb45-db0681d9b1ae"
      },
      "source": [
        "df['fuel_unit'].count()"
      ],
      "execution_count": 29,
      "outputs": [
        {
          "output_type": "execute_result",
          "data": {
            "text/plain": [
              "29343"
            ]
          },
          "metadata": {
            "tags": []
          },
          "execution_count": 29
        }
      ]
    },
    {
      "cell_type": "code",
      "metadata": {
        "colab": {
          "base_uri": "https://localhost:8080/"
        },
        "id": "oGGtRObaLu82",
        "outputId": "f450d890-a577-4207-d1c2-ca5f8fbf6387"
      },
      "source": [
        "round((180/29343)*100, 5)"
      ],
      "execution_count": 37,
      "outputs": [
        {
          "output_type": "execute_result",
          "data": {
            "text/plain": [
              "0.61343"
            ]
          },
          "metadata": {
            "tags": []
          },
          "execution_count": 37
        }
      ]
    },
    {
      "cell_type": "code",
      "metadata": {
        "id": "PMl3qbQyG7ll"
      },
      "source": [
        "#Question 7\r\n"
      ],
      "execution_count": 10,
      "outputs": []
    },
    {
      "cell_type": "code",
      "metadata": {
        "colab": {
          "base_uri": "https://localhost:8080/",
          "height": 274
        },
        "id": "23WlkjztHKKu",
        "outputId": "cca1a004-8149-4e40-9d70-881d665b7881"
      },
      "source": [
        "#Question 8\r\n",
        "df.corr()"
      ],
      "execution_count": 11,
      "outputs": [
        {
          "output_type": "execute_result",
          "data": {
            "text/html": [
              "<div>\n",
              "<style scoped>\n",
              "    .dataframe tbody tr th:only-of-type {\n",
              "        vertical-align: middle;\n",
              "    }\n",
              "\n",
              "    .dataframe tbody tr th {\n",
              "        vertical-align: top;\n",
              "    }\n",
              "\n",
              "    .dataframe thead th {\n",
              "        text-align: right;\n",
              "    }\n",
              "</style>\n",
              "<table border=\"1\" class=\"dataframe\">\n",
              "  <thead>\n",
              "    <tr style=\"text-align: right;\">\n",
              "      <th></th>\n",
              "      <th>utility_id_ferc1</th>\n",
              "      <th>report_year</th>\n",
              "      <th>fuel_qty_burned</th>\n",
              "      <th>fuel_mmbtu_per_unit</th>\n",
              "      <th>fuel_cost_per_unit_burned</th>\n",
              "      <th>fuel_cost_per_unit_delivered</th>\n",
              "      <th>fuel_cost_per_mmbtu</th>\n",
              "    </tr>\n",
              "  </thead>\n",
              "  <tbody>\n",
              "    <tr>\n",
              "      <th>utility_id_ferc1</th>\n",
              "      <td>1.000000</td>\n",
              "      <td>0.093323</td>\n",
              "      <td>-0.057447</td>\n",
              "      <td>-0.066946</td>\n",
              "      <td>-0.037863</td>\n",
              "      <td>-0.016414</td>\n",
              "      <td>0.006122</td>\n",
              "    </tr>\n",
              "    <tr>\n",
              "      <th>report_year</th>\n",
              "      <td>0.093323</td>\n",
              "      <td>1.000000</td>\n",
              "      <td>0.012952</td>\n",
              "      <td>-0.110853</td>\n",
              "      <td>0.013599</td>\n",
              "      <td>-0.014043</td>\n",
              "      <td>0.010261</td>\n",
              "    </tr>\n",
              "    <tr>\n",
              "      <th>fuel_qty_burned</th>\n",
              "      <td>-0.057447</td>\n",
              "      <td>0.012952</td>\n",
              "      <td>1.000000</td>\n",
              "      <td>-0.080946</td>\n",
              "      <td>-0.018535</td>\n",
              "      <td>-0.003551</td>\n",
              "      <td>-0.001896</td>\n",
              "    </tr>\n",
              "    <tr>\n",
              "      <th>fuel_mmbtu_per_unit</th>\n",
              "      <td>-0.066946</td>\n",
              "      <td>-0.110853</td>\n",
              "      <td>-0.080946</td>\n",
              "      <td>1.000000</td>\n",
              "      <td>-0.010034</td>\n",
              "      <td>-0.009039</td>\n",
              "      <td>-0.005884</td>\n",
              "    </tr>\n",
              "    <tr>\n",
              "      <th>fuel_cost_per_unit_burned</th>\n",
              "      <td>-0.037863</td>\n",
              "      <td>0.013599</td>\n",
              "      <td>-0.018535</td>\n",
              "      <td>-0.010034</td>\n",
              "      <td>1.000000</td>\n",
              "      <td>0.011007</td>\n",
              "      <td>-0.000437</td>\n",
              "    </tr>\n",
              "    <tr>\n",
              "      <th>fuel_cost_per_unit_delivered</th>\n",
              "      <td>-0.016414</td>\n",
              "      <td>-0.014043</td>\n",
              "      <td>-0.003551</td>\n",
              "      <td>-0.009039</td>\n",
              "      <td>0.011007</td>\n",
              "      <td>1.000000</td>\n",
              "      <td>-0.000109</td>\n",
              "    </tr>\n",
              "    <tr>\n",
              "      <th>fuel_cost_per_mmbtu</th>\n",
              "      <td>0.006122</td>\n",
              "      <td>0.010261</td>\n",
              "      <td>-0.001896</td>\n",
              "      <td>-0.005884</td>\n",
              "      <td>-0.000437</td>\n",
              "      <td>-0.000109</td>\n",
              "      <td>1.000000</td>\n",
              "    </tr>\n",
              "  </tbody>\n",
              "</table>\n",
              "</div>"
            ],
            "text/plain": [
              "                              utility_id_ferc1  report_year  fuel_qty_burned  fuel_mmbtu_per_unit  fuel_cost_per_unit_burned  fuel_cost_per_unit_delivered  fuel_cost_per_mmbtu\n",
              "utility_id_ferc1                      1.000000     0.093323        -0.057447            -0.066946                  -0.037863                     -0.016414             0.006122\n",
              "report_year                           0.093323     1.000000         0.012952            -0.110853                   0.013599                     -0.014043             0.010261\n",
              "fuel_qty_burned                      -0.057447     0.012952         1.000000            -0.080946                  -0.018535                     -0.003551            -0.001896\n",
              "fuel_mmbtu_per_unit                  -0.066946    -0.110853        -0.080946             1.000000                  -0.010034                     -0.009039            -0.005884\n",
              "fuel_cost_per_unit_burned            -0.037863     0.013599        -0.018535            -0.010034                   1.000000                      0.011007            -0.000437\n",
              "fuel_cost_per_unit_delivered         -0.016414    -0.014043        -0.003551            -0.009039                   0.011007                      1.000000            -0.000109\n",
              "fuel_cost_per_mmbtu                   0.006122     0.010261        -0.001896            -0.005884                  -0.000437                     -0.000109             1.000000"
            ]
          },
          "metadata": {
            "tags": []
          },
          "execution_count": 11
        }
      ]
    },
    {
      "cell_type": "code",
      "metadata": {
        "colab": {
          "base_uri": "https://localhost:8080/"
        },
        "id": "2ufgXkttHjRG",
        "outputId": "4fd42a06-82df-45d4-c4bb-00a660bbf2af"
      },
      "source": [
        "#Question 9\r\n",
        "df[df[\"fuel_type_code_pudl\"] == \"coal\"].groupby(\"report_year\")[\"fuel_cost_per_unit_burned\"].mean()"
      ],
      "execution_count": 17,
      "outputs": [
        {
          "output_type": "execute_result",
          "data": {
            "text/plain": [
              "report_year\n",
              "1994     31.546467\n",
              "1995     30.677442\n",
              "1996     29.454299\n",
              "1997    104.897309\n",
              "1998     27.616234\n",
              "1999     38.361101\n",
              "2000    249.203055\n",
              "2001     41.622623\n",
              "2002     27.623988\n",
              "2003     94.085441\n",
              "2004     29.913239\n",
              "2005     34.281426\n",
              "2006     37.928697\n",
              "2007     39.288397\n",
              "2008     44.507292\n",
              "2009    142.805197\n",
              "2010    280.467547\n",
              "2011     52.634721\n",
              "2012     53.657789\n",
              "2013     55.093312\n",
              "2014     52.244736\n",
              "2015     49.769534\n",
              "2016     46.447385\n",
              "2017     45.983336\n",
              "2018     44.967758\n",
              "Name: fuel_cost_per_unit_burned, dtype: float64"
            ]
          },
          "metadata": {
            "tags": []
          },
          "execution_count": 17
        }
      ]
    },
    {
      "cell_type": "code",
      "metadata": {
        "colab": {
          "base_uri": "https://localhost:8080/"
        },
        "id": "ykLWDIQgJpSD",
        "outputId": "be2240a4-8094-4a84-8f8b-e7bba072922c"
      },
      "source": [
        "#((1994-1998)/1994)*\r\n",
        "PercentDifference = ((31.546467-27.616234)/27.616234)*100\r\n",
        "print(round(PercentDifference))"
      ],
      "execution_count": 25,
      "outputs": [
        {
          "output_type": "stream",
          "text": [
            "14\n"
          ],
          "name": "stdout"
        }
      ]
    },
    {
      "cell_type": "code",
      "metadata": {
        "colab": {
          "base_uri": "https://localhost:8080/"
        },
        "id": "piWJMljgH2Kh",
        "outputId": "4cad7764-7049-4098-9b81-556f274f48fb"
      },
      "source": [
        "#Question 10\r\n",
        "AverageFuelCostPerUnit = df.groupby(\"report_year\")[\"fuel_cost_per_unit_delivered\"].mean()\r\n",
        "highest = AverageFuelCostPerUnit.sort_values(ascending=False)\r\n",
        "print(highest)"
      ],
      "execution_count": 16,
      "outputs": [
        {
          "output_type": "stream",
          "text": [
            "report_year\n",
            "1997    11140.197239\n",
            "1996     9196.705948\n",
            "2000      985.362877\n",
            "2009      652.694163\n",
            "2018      499.269966\n",
            "2015      326.535511\n",
            "1998      287.154420\n",
            "2014      192.737183\n",
            "2013      172.307591\n",
            "2004      139.524275\n",
            "2016      103.901761\n",
            "2010       91.862105\n",
            "1994       63.636060\n",
            "2012       60.994502\n",
            "2001       60.050396\n",
            "2011       59.774667\n",
            "2008       58.588197\n",
            "2003       55.663493\n",
            "2002       47.594361\n",
            "2017       46.196861\n",
            "2007       43.325023\n",
            "2005       41.438184\n",
            "2006       38.657484\n",
            "1995       32.735269\n",
            "1999       25.551627\n",
            "Name: fuel_cost_per_unit_delivered, dtype: float64\n"
          ],
          "name": "stdout"
        }
      ]
    },
    {
      "cell_type": "code",
      "metadata": {
        "id": "-Dm0ocCvIRNc"
      },
      "source": [
        ""
      ],
      "execution_count": null,
      "outputs": []
    }
  ]
}